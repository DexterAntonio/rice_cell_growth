{
 "cells": [
  {
   "cell_type": "markdown",
   "metadata": {},
   "source": [
    "# Calculating rice cell growth parameters"
   ]
  },
  {
   "cell_type": "markdown",
   "metadata": {},
   "source": [
    "The purposes of this document is to walk through the calculations of growth paramaters $\\mu_{max}$ and the starting inocculation density $m_0$ from the rice cell growth experiments."
   ]
  },
  {
   "cell_type": "code",
   "execution_count": 1,
   "metadata": {},
   "outputs": [],
   "source": [
    "import numpy as np #importing important packages \n",
    "import matplotlib.pyplot as pt\n",
    "import scipy.stats as st "
   ]
  },
  {
   "cell_type": "code",
   "execution_count": 2,
   "metadata": {},
   "outputs": [
    {
     "ename": "TypeError",
     "evalue": "list indices must be integers or slices, not tuple",
     "output_type": "error",
     "traceback": [
      "\u001b[1;31m---------------------------------------------------------------------------\u001b[0m",
      "\u001b[1;31mTypeError\u001b[0m                                 Traceback (most recent call last)",
      "\u001b[1;32m<ipython-input-2-daa2648844a2>\u001b[0m in \u001b[0;36m<module>\u001b[1;34m()\u001b[0m\n\u001b[0;32m      5\u001b[0m \u001b[1;33m[\u001b[0m\u001b[1;36m3.642384106\u001b[0m\u001b[1;33m,\u001b[0m\u001b[1;36m7.032258065\u001b[0m\u001b[1;33m,\u001b[0m\u001b[1;36m2.795031056\u001b[0m\u001b[1;33m]\u001b[0m\u001b[1;33m,\u001b[0m\u001b[1;33m\u001b[0m\u001b[0m\n\u001b[0;32m      6\u001b[0m \u001b[1;33m[\u001b[0m\u001b[1;36m3.164556962\u001b[0m\u001b[1;33m,\u001b[0m\u001b[1;36m3.267973856\u001b[0m\u001b[1;33m,\u001b[0m\u001b[1;36m1.8\u001b[0m\u001b[1;33m]\u001b[0m\u001b[1;33m\u001b[0m\u001b[0m\n\u001b[1;32m----> 7\u001b[1;33m \u001b[1;33m[\u001b[0m\u001b[1;36m3.758389262\u001b[0m\u001b[1;33m,\u001b[0m\u001b[1;36m7.315436242\u001b[0m\u001b[1;33m,\u001b[0m\u001b[1;36m7.066666667\u001b[0m\u001b[1;33m]\u001b[0m\u001b[1;33m,\u001b[0m\u001b[1;33m\u001b[0m\u001b[0m\n\u001b[0m\u001b[0;32m      8\u001b[0m [8.571428571,7.784431138,7.5]])\n\u001b[0;32m      9\u001b[0m \u001b[1;33m\u001b[0m\u001b[0m\n",
      "\u001b[1;31mTypeError\u001b[0m: list indices must be integers or slices, not tuple"
     ]
    }
   ],
   "source": [
    "#this is currently an incomplete dataset used only for the first 10 \n",
    "days = [0,2,4,6,8]\n",
    "all_data_F5 = np.array(\n",
    "[[0.928571429,0.733333333,0.680272109],\n",
    "[3.642384106,7.032258065,2.795031056],\n",
    "[3.164556962,3.267973856,1.8]\n",
    "[3.758389262,7.315436242,7.066666667],\n",
    "[8.571428571,7.784431138,7.5]])\n",
    "\n",
    "all_data_ln_F5 = np.log(all_data_F5)\n",
    "\n",
    "lF5_average = np.transpose(np.average(all_data_ln_F5,axis=1))\n",
    "lF5_std = np.transpose(np.std(all_data_ln_F5,axis=1))\n"
   ]
  },
  {
   "cell_type": "code",
   "execution_count": null,
   "metadata": {},
   "outputs": [],
   "source": [
    "#plot of data\n",
    "pt.figure(1)\n",
    "pt.plot(days,lF5_average)\n",
    "pt.xlabel(\"days\")\n",
    "pt.ylabel(\"ln(g dw/L)\")\n",
    "\n"
   ]
  },
  {
   "cell_type": "code",
   "execution_count": null,
   "metadata": {},
   "outputs": [],
   "source": [
    "#now converting to d, G notation \n",
    "m = np.size(days) \n",
    "n = 2 #two model parameters \n",
    "\n",
    "#making G \n",
    "col1 = np.ones((m,1))\n",
    "col2 = np.transpose(days)\n",
    "G = np.matrix(np.column_stack((col1,col2)))\n",
    "\n",
    "#defining d \n",
    "d = np.transpose(np.matrix(lF5_average))\n",
    "#defining sigma for data \n",
    "sigma_d = lF5_std #s^2 != sigma^2 but we assume it does because what else?\n",
    "\n"
   ]
  },
  {
   "cell_type": "markdown",
   "metadata": {},
   "source": [
    "using the formula $m = (G^{T}G)^{-1}G^Td$ that doesn't use the data's standard deviations "
   ]
  },
  {
   "cell_type": "code",
   "execution_count": null,
   "metadata": {
    "scrolled": true
   },
   "outputs": [],
   "source": [
    "#calculating m \n",
    "Gt = np.transpose(G)\n",
    "m_unw = np.linalg.inv(Gt*G)*Gt*d\n",
    "print(m_unw)"
   ]
  },
  {
   "cell_type": "markdown",
   "metadata": {},
   "source": [
    "using the formulas $G_{w} = WG$, $d_{w}=Wd$ and $m = (G^T_wG_{w})^{-1}G_{w}^Td_{w}$"
   ]
  },
  {
   "cell_type": "code",
   "execution_count": null,
   "metadata": {},
   "outputs": [],
   "source": [
    "#calculating m taking into account std \n",
    "W = np.diag(1./sigma_d)\n",
    "Gw = W*G\n",
    "Gwt = np.transpose(Gw)\n",
    "dw = W*d\n",
    "m_w = np.linalg.inv(Gwt*Gw)*Gwt*dw\n",
    "print(m_w)"
   ]
  },
  {
   "cell_type": "markdown",
   "metadata": {},
   "source": [
    "Calculating the coviarance matrix for m $Cov(m_{L2}) = (G^T_wG_w)^{-1}G_w^TCov(d_w)G_w(G_w^TG_w)^{-1}$\n",
    "we assume $Cov(d_w) = I_m $ since the data should be linearly independent measurements."
   ]
  },
  {
   "cell_type": "code",
   "execution_count": null,
   "metadata": {},
   "outputs": [],
   "source": [
    "invGwtGw = np.linalg.inv(Gwt*Gw)\n",
    "np.identity(m)\n",
    "#cov_m = invGwtGw*Gwt*np.cov(dw)*Gw*invGwtGw\n",
    "cov_m = invGwtGw*Gwt*np.identity(m)*Gw*invGwtGw\n",
    "print(cov_m)"
   ]
  },
  {
   "cell_type": "markdown",
   "metadata": {},
   "source": [
    "$\\mu$ is with a standard deviation of "
   ]
  },
  {
   "cell_type": "code",
   "execution_count": 3,
   "metadata": {},
   "outputs": [
    {
     "ename": "NameError",
     "evalue": "name 'm_w' is not defined",
     "output_type": "error",
     "traceback": [
      "\u001b[1;31m---------------------------------------------------------------------------\u001b[0m",
      "\u001b[1;31mNameError\u001b[0m                                 Traceback (most recent call last)",
      "\u001b[1;32m<ipython-input-3-8ccf46c6ed41>\u001b[0m in \u001b[0;36m<module>\u001b[1;34m()\u001b[0m\n\u001b[1;32m----> 1\u001b[1;33m \u001b[0mprint\u001b[0m\u001b[1;33m(\u001b[0m\u001b[1;34m\"mu is = %0.3f +/- %0.4f\"\u001b[0m \u001b[1;33m%\u001b[0m \u001b[1;33m(\u001b[0m\u001b[0mm_w\u001b[0m\u001b[1;33m[\u001b[0m\u001b[1;36m1\u001b[0m\u001b[1;33m,\u001b[0m\u001b[1;36m0\u001b[0m\u001b[1;33m]\u001b[0m\u001b[1;33m,\u001b[0m\u001b[0mcov_m\u001b[0m\u001b[1;33m[\u001b[0m\u001b[1;36m1\u001b[0m\u001b[1;33m,\u001b[0m\u001b[1;36m1\u001b[0m\u001b[1;33m]\u001b[0m\u001b[1;33m)\u001b[0m\u001b[1;33m)\u001b[0m\u001b[1;33m\u001b[0m\u001b[0m\n\u001b[0m\u001b[0;32m      2\u001b[0m \u001b[0mprint\u001b[0m\u001b[1;33m(\u001b[0m\u001b[0mm_w\u001b[0m\u001b[1;33m)\u001b[0m\u001b[1;33m\u001b[0m\u001b[0m\n",
      "\u001b[1;31mNameError\u001b[0m: name 'm_w' is not defined"
     ]
    }
   ],
   "source": [
    "print(\"mu is = %0.3f +/- %0.4f\" % (m_w[1,0],cov_m[1,1]))\n",
    "print(m_w)"
   ]
  },
  {
   "cell_type": "code",
   "execution_count": null,
   "metadata": {},
   "outputs": [],
   "source": [
    "#calculating the initial innoculation density \n",
    "M_0 = np.exp(m_w[0,0])\n",
    "#M_0_std = np.exp(cov_m[0,0]) this doesn't work so we assume cov_[0,0] is percent error and then do this\n",
    "#source for this idea https://people.duke.edu/~rnau/411log.htm\n",
    "M_0_std = cov_m[0,0]*M_0 #this seems reasonable \n",
    "print(\"M_0 is %f +/- %f\"%(M_0,M_0_std))"
   ]
  },
  {
   "cell_type": "markdown",
   "metadata": {},
   "source": [
    "We use the following hypothosis testing framework $T_0 = \\frac{| {{ \\hat{\\beta_1}-\\beta_{1,0}| }}}{SE(\\hat{\\beta_1})}$ with the assumption that $SE(\\hat{\\beta_1}) = \\sigma_{{\\beta_1}}$ and $\\beta_{1,0} = 0 $"
   ]
  },
  {
   "cell_type": "code",
   "execution_count": null,
   "metadata": {},
   "outputs": [],
   "source": [
    "#hypothosis testing prob that these things are real \n",
    "sigma_b = cov_m[0,0] #SE\n",
    "sigma_mu = cov_m[1,1]\n",
    "T0_mu = abs(m_w[1,0]-0)/sigma_mu #for slope \n",
    "T0_b = abs(m_w[0,0]-0)/sigma_b #for slope \n",
    "from scipy.stats import t\n",
    "\n",
    "p_mu = (1 - t.cdf(T0_mu,df=m-n))*2\n",
    "p_b = (1 - t.cdf(T0_b,df=m-n))*2 \n",
    "\n",
    "print(\"p_mu is %.2E and p_b is %.2E\" %(p_mu,p_b))\n",
    "\n"
   ]
  },
  {
   "cell_type": "code",
   "execution_count": null,
   "metadata": {
    "scrolled": false
   },
   "outputs": [],
   "source": [
    "#plotting trendline and data\n",
    "x_fake = np.linspace(0,8,32)\n",
    "y_fake = x_fake*m_w[1,0] + m_w[0,0]\n",
    "y_fake_un = x_fake*m_unw[1,0] + m_unw[0,0]\n",
    "pt.figure(2)\n",
    "pt.plot(x_fake,y_fake,'--')\n",
    "pt.plot(days,lF5_average,'o')\n",
    "pt.plot(x_fake,y_fake_un,'--')"
   ]
  },
  {
   "cell_type": "code",
   "execution_count": null,
   "metadata": {},
   "outputs": [],
   "source": [
    "#calculating P value \n",
    "r = (y_fake-d)\n",
    "r_2norm = r*np.transpose(r)\n",
    "print(st.chi2.cdf(r_2norm,m-1,loc=0,scale=1) )\n"
   ]
  },
  {
   "cell_type": "code",
   "execution_count": null,
   "metadata": {},
   "outputs": [],
   "source": []
  }
 ],
 "metadata": {
  "kernelspec": {
   "display_name": "Python 3",
   "language": "python",
   "name": "python3"
  },
  "language_info": {
   "codemirror_mode": {
    "name": "ipython",
    "version": 3
   },
   "file_extension": ".py",
   "mimetype": "text/x-python",
   "name": "python",
   "nbconvert_exporter": "python",
   "pygments_lexer": "ipython3",
   "version": "3.6.5"
  }
 },
 "nbformat": 4,
 "nbformat_minor": 2
}
